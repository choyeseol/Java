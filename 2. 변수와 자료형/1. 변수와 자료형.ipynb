{
 "cells": [
  {
   "cell_type": "markdown",
   "id": "0331c4c3",
   "metadata": {},
   "source": [
    "# 1. 변수 (variable)\n",
    "- 변수 = 프로그램에서 데이트를 저장하는 공간"
   ]
  },
  {
   "cell_type": "markdown",
   "id": "d8d92749",
   "metadata": {},
   "source": [
    "## 1.1 변수 이름 규칙"
   ]
  },
  {
   "cell_type": "markdown",
   "id": "ef6702b3",
   "metadata": {},
   "source": [
    "- 길이 제한 없음.\n",
    "- 반드시 변수명은 문자, 언더바(_), 달러($)로 시작해야 함.\n",
    "- 자바의 연산자는 변수명에 포함할 수 없음.\n",
    "- 대소문자를 구별함.\n",
    "- 첫 글자에 숫자는 올 수 없고, 변수명 사이에 공백 문자가 있으면 안됨.\n",
    "- 자바의 키워드는 변수명으로 사용 불가."
   ]
  },
  {
   "cell_type": "markdown",
   "id": "5e70f107",
   "metadata": {},
   "source": [
    "자바에서의 변수 선언은 명시적으로 데이터형을 지정해야한다.  \n",
    "선언된 데이터형과 다른 데이터 값이 대입되었다면, 오류가 발생할 수 있으니 주의하자."
   ]
  },
  {
   "cell_type": "markdown",
   "id": "586e0040",
   "metadata": {},
   "source": [
    " "
   ]
  },
  {
   "cell_type": "markdown",
   "id": "2f25424a",
   "metadata": {},
   "source": [
    " "
   ]
  },
  {
   "cell_type": "markdown",
   "id": "79fd09fb",
   "metadata": {},
   "source": [
    " "
   ]
  },
  {
   "cell_type": "markdown",
   "id": "7c3cd350",
   "metadata": {},
   "source": [
    " "
   ]
  },
  {
   "cell_type": "markdown",
   "id": "5a7e381c",
   "metadata": {},
   "source": [
    "# 2. 자료형 (data type)"
   ]
  },
  {
   "cell_type": "markdown",
   "id": "13b019e6",
   "metadata": {},
   "source": [
    "자바에서 지원하는 기본 자료형은  \n",
    "대표적으로 정수형, 실수형, 논리형, 문자형(문자열)으로 나눌 수 있다."
   ]
  },
  {
   "cell_type": "markdown",
   "id": "5bb428c4",
   "metadata": {},
   "source": [
    "### 2.1 정수형"
   ]
  },
  {
   "cell_type": "markdown",
   "id": "784f22c0",
   "metadata": {},
   "source": [
    "정수형에는 byte, short, int, long이라는 자료형이있다.  \n",
    "정수형은 정수 값을 저장하는 데 사용되는 데이터 타입이다.\n",
    "\n",
    "byte(1byte) < short(2byte) < int(4byte) < long(8byte)"
   ]
  },
  {
   "cell_type": "markdown",
   "id": "e8f310c9",
   "metadata": {},
   "source": [
    "byte:\n",
    "\n",
    "- 1byte 크기의, 부호 있는 정수 자료형\n",
    "- 범위: -128 ~ 127 \n",
    "- 주로 메모리 절약이 필요한 경우, 혹은 파일에서 데이터를 읽을 때 사용."
   ]
  },
  {
   "cell_type": "markdown",
   "id": "962bd5b2",
   "metadata": {},
   "source": [
    " "
   ]
  },
  {
   "cell_type": "markdown",
   "id": "b62e54d4",
   "metadata": {},
   "source": [
    "short:\n",
    "\n",
    "- 2byte 크기의, 부호 있는 정수 자료형\n",
    "- 범위: -32,768 ~ 32,767\n",
    "- byte보다 큰 범위를 필요로 할 때 사용."
   ]
  },
  {
   "cell_type": "markdown",
   "id": "396a50ee",
   "metadata": {},
   "source": [
    " "
   ]
  },
  {
   "cell_type": "markdown",
   "id": "cde45566",
   "metadata": {},
   "source": [
    "int:\n",
    "\n",
    "- 4byte 크기의, 부호 있는 정수 자료형\n",
    "- 범위: -2^31(-2,147,483,648) ~ 2^31-1(2,147,483,647)\n",
    "- 자바에서 가장 일반적으로 사용되는 정수형 자료형."
   ]
  },
  {
   "cell_type": "markdown",
   "id": "07013de3",
   "metadata": {},
   "source": [
    " "
   ]
  },
  {
   "cell_type": "markdown",
   "id": "af26a243",
   "metadata": {},
   "source": [
    "long:\n",
    "\n",
    "- 8byte 크기의 부호 있는, 정수 자료형입니다.\n",
    "- 범위: -2^63(-9,223,372,036,854,775,808) ~ 2^63-1(9,223,372,036,854,775,807)\n",
    "- int보다 더 큰 범위의 정수 값을 저장해야 할 때 사용."
   ]
  },
  {
   "cell_type": "markdown",
   "id": "d86ccb72",
   "metadata": {},
   "source": [
    " "
   ]
  },
  {
   "cell_type": "markdown",
   "id": "18f4a375",
   "metadata": {},
   "source": [
    " "
   ]
  },
  {
   "cell_type": "markdown",
   "id": "7286e3f7",
   "metadata": {},
   "source": [
    " "
   ]
  },
  {
   "cell_type": "markdown",
   "id": "8791f334",
   "metadata": {},
   "source": [
    " "
   ]
  },
  {
   "cell_type": "markdown",
   "id": "09848e5f",
   "metadata": {},
   "source": [
    "#### 2.2 실수형"
   ]
  },
  {
   "cell_type": "markdown",
   "id": "249673da",
   "metadata": {},
   "source": [
    "실수형은 기본적으로 'float'와 'double'의 데이터 타입이 있다."
   ]
  },
  {
   "cell_type": "markdown",
   "id": "ee501413",
   "metadata": {},
   "source": [
    "float:\n",
    "\n",
    "- 4byte 크기의 부동 소수점 자료형\n",
    "- 숫자 뒤에 'f' 또는 'F'를 붙여 표현 (ex: 3.14f).\n",
    "- 보다 작은 메모리 공간을 사용하여 실수를 저장할 수 있으나 정밀도가 제한적이기 때문에 정확도가 떨어질 수 있음.\n",
    "\n",
    "정확한 값이 요구되는 경우에는 double이 더 적합하다."
   ]
  },
  {
   "cell_type": "markdown",
   "id": "544cfb39",
   "metadata": {},
   "source": [
    " "
   ]
  },
  {
   "cell_type": "markdown",
   "id": "ba73c9b9",
   "metadata": {},
   "source": [
    "double:\n",
    "\n",
    "- 8byte 크기의 부동 소수점 자료형\n",
    "- 기본적으로 실수 값을 표현할 때는 소수점 이하를 생략하여 표현 (ex: 3.14).\n",
    "- 더 넓은 범위와 더 높은 정밀도를 제공하며, 대부분의 경우 실수 처리에 사용되는 기본 자료형.\n",
    "\n",
    "대부분의 실수 연산에는 double을 사용하는 것이 좋다."
   ]
  },
  {
   "cell_type": "markdown",
   "id": "dc490491",
   "metadata": {},
   "source": [
    " "
   ]
  },
  {
   "cell_type": "markdown",
   "id": "72a573f3",
   "metadata": {},
   "source": [
    " "
   ]
  },
  {
   "cell_type": "markdown",
   "id": "bcf4fcd4",
   "metadata": {},
   "source": [
    " "
   ]
  },
  {
   "cell_type": "markdown",
   "id": "3c529690",
   "metadata": {},
   "source": [
    " "
   ]
  },
  {
   "cell_type": "markdown",
   "id": "f7e1bb09",
   "metadata": {},
   "source": [
    " "
   ]
  },
  {
   "cell_type": "markdown",
   "id": "1b2c2cfd",
   "metadata": {},
   "source": [
    "#### 2.3 문자형"
   ]
  },
  {
   "cell_type": "markdown",
   "id": "36b48fcb",
   "metadata": {},
   "source": [
    "문자형에는 'char'이라는 데이터 타입이 있다.\n",
    "\n",
    "'char'은 2byte 크기의 유니코드 문자를 표현하는 자료형이다."
   ]
  },
  {
   "cell_type": "markdown",
   "id": "4a16ae61",
   "metadata": {},
   "source": [
    "char:\n",
    "\n",
    "- 2byte 크기의 유니코드 문자를 저장하는 자료형\n",
    "- 작은따옴표('')를 사용하여 문자를 표현한다. (ex: 'A', 'b', '1', '한').\n",
    "- 유니코드 문자 집합으로 모든 문자를 표현할 수 있으므로 국제화에 용이하다.\n",
    "- 숫자와 문자를 구분하여 처리하고, 문자열(String)과 구분하여 사용된다."
   ]
  },
  {
   "cell_type": "markdown",
   "id": "de484241",
   "metadata": {},
   "source": [
    "'char' 자료형은 단일 문자를 저장하므로 문자열을 다룰 때는 'String' 클래스를 사용해야 한다."
   ]
  },
  {
   "cell_type": "markdown",
   "id": "aef01c6c",
   "metadata": {},
   "source": [
    " "
   ]
  },
  {
   "cell_type": "markdown",
   "id": "37ffe64a",
   "metadata": {},
   "source": [
    " "
   ]
  },
  {
   "cell_type": "markdown",
   "id": "99a1c414",
   "metadata": {},
   "source": [
    " "
   ]
  },
  {
   "cell_type": "markdown",
   "id": "59be1657",
   "metadata": {},
   "source": [
    " "
   ]
  },
  {
   "cell_type": "markdown",
   "id": "f977f4fd",
   "metadata": {},
   "source": [
    " "
   ]
  },
  {
   "cell_type": "markdown",
   "id": "ba872e2f",
   "metadata": {},
   "source": [
    "#### 2.4 논리형"
   ]
  },
  {
   "cell_type": "markdown",
   "id": "fd7971ea",
   "metadata": {},
   "source": [
    "논리형에는 'boolean'이라는 데이터 타입이 있다.\n",
    "\n",
    "'boolean'은 논리적인 값인 참(true) 또는 거짓(false)을 저장하는 자료형이다."
   ]
  },
  {
   "cell_type": "markdown",
   "id": "48a71353",
   "metadata": {},
   "source": [
    "boolean:\n",
    "\n",
    "- 논리적인 값인 참(true) 또는 거짓(false)을 저장하는 자료형이다.\n",
    "- 조건문과 논리 연산에서 주로 사용되며, 프로그램의 흐름 제어에 중요한 역할을 한다.\n",
    "- true 또는 false 중 하나의 값을 가짐."
   ]
  },
  {
   "cell_type": "markdown",
   "id": "7079f601",
   "metadata": {},
   "source": [
    " "
   ]
  },
  {
   "cell_type": "markdown",
   "id": "d49623c1",
   "metadata": {},
   "source": [
    " "
   ]
  },
  {
   "cell_type": "markdown",
   "id": "efab2f06",
   "metadata": {},
   "source": [
    " "
   ]
  },
  {
   "cell_type": "markdown",
   "id": "230aa29b",
   "metadata": {},
   "source": [
    " "
   ]
  },
  {
   "cell_type": "markdown",
   "id": "c00cbb14",
   "metadata": {},
   "source": [
    "### 자동 타입 변환 (묵시적) (Explicit Casting)"
   ]
  },
  {
   "cell_type": "markdown",
   "id": "cc937c65",
   "metadata": {},
   "source": [
    "명시적 형변환이란 크기가 더 큰 데이터 타입을 작은 데이터 타입으로 변환하는 것을 의미한다."
   ]
  },
  {
   "cell_type": "markdown",
   "id": "94fdf618",
   "metadata": {},
   "source": [
    "byte(1byte) < short(2byte) < int(4byte) < long(8byte)"
   ]
  },
  {
   "cell_type": "markdown",
   "id": "6d7e3aeb",
   "metadata": {},
   "source": [
    "데이터의 손실이 발생할 수 있으므로 개발자가 직접 변환을 명시해야 한다."
   ]
  },
  {
   "cell_type": "code",
   "execution_count": 8,
   "id": "c158aa77",
   "metadata": {},
   "outputs": [],
   "source": [
    "double a = 3.14;\n",
    "int b = (int) a; // double을 int로 명시적으로 형변환"
   ]
  },
  {
   "cell_type": "markdown",
   "id": "7306310b",
   "metadata": {},
   "source": [
    " "
   ]
  },
  {
   "cell_type": "markdown",
   "id": "5d079d4e",
   "metadata": {},
   "source": [
    " "
   ]
  },
  {
   "cell_type": "markdown",
   "id": "3d7fe8e4",
   "metadata": {},
   "source": [
    "### 강제 타입 변환 (명시적) (Implicit Casting)"
   ]
  },
  {
   "cell_type": "markdown",
   "id": "cbb03031",
   "metadata": {},
   "source": [
    "묵시적 형변환이란 크기가 더 작은 데이터 타입을 큰 데이터 타입으로 자동으로 변환하는 것을 의미한다."
   ]
  },
  {
   "cell_type": "markdown",
   "id": "067b21ee",
   "metadata": {},
   "source": [
    "- 데이터의 손실 없이 안전하게 형변환된다.\n",
    "- 명시적 형변환보다 더 간단하며 자동으로 이루어진다."
   ]
  },
  {
   "cell_type": "code",
   "execution_count": 9,
   "id": "9b2420bc",
   "metadata": {},
   "outputs": [],
   "source": [
    "int a = 42;\n",
    "double b = a; // int를 double로 묵시적으로 형변환"
   ]
  },
  {
   "cell_type": "markdown",
   "id": "b40093e2",
   "metadata": {},
   "source": [
    "형변환은 데이터 타입 간의 호환성을 확보하고, 다양한 상황에서 데이터를 효율적으로 다룰 수 있도록 도와준다.\n",
    "\n",
    "하지만 명시적 형변환에서는 데이터의 손실이 발생할 수 있으므로 필요한 경우에만 사용해야 한다."
   ]
  }
 ],
 "metadata": {
  "kernelspec": {
   "display_name": "Java",
   "language": "java",
   "name": "java"
  },
  "language_info": {
   "codemirror_mode": "java",
   "file_extension": ".jshell",
   "mimetype": "text/x-java-source",
   "name": "Java",
   "pygments_lexer": "java",
   "version": "11.0.19+9-LTS-224"
  }
 },
 "nbformat": 4,
 "nbformat_minor": 5
}
