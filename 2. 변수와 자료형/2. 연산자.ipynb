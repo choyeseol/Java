{
 "cells": [
  {
   "cell_type": "markdown",
   "id": "9cf24bc7",
   "metadata": {},
   "source": [
    "# 연산자(Operators)"
   ]
  },
  {
   "cell_type": "markdown",
   "id": "66cf3b8b",
   "metadata": {},
   "source": [
    " "
   ]
  },
  {
   "cell_type": "markdown",
   "id": "3005b4a0",
   "metadata": {},
   "source": [
    "### 1. 산술 연산자\n",
    "\n",
    "사칙연산 및 나머지계산 한다.\n",
    "- +, -, *, / %\n",
    "\n"
   ]
  },
  {
   "cell_type": "markdown",
   "id": "ce32030d",
   "metadata": {},
   "source": [
    " "
   ]
  },
  {
   "cell_type": "markdown",
   "id": "a0d66ba8",
   "metadata": {},
   "source": [
    "### 2. 대입 연산자 \n",
    "변수에 값을 할당하는 데 사용된다.\n",
    "\n",
    "- =, +=, -=, *=, /=, %=\n",
    "- &=, ^=, |=, <<=, >>=, >>>="
   ]
  },
  {
   "cell_type": "markdown",
   "id": "c854a3e7",
   "metadata": {},
   "source": [
    " "
   ]
  },
  {
   "cell_type": "markdown",
   "id": "d516769e",
   "metadata": {},
   "source": [
    "### 3. 비교 연산자\n",
    "두 값을 비교하는 데 사용되며, 결과로 true 또는 false 값을 반환한다.\n",
    "- ==, !=, <, >, <=, >=,\n",
    "- instanceof"
   ]
  },
  {
   "cell_type": "markdown",
   "id": "c5ad21a1",
   "metadata": {},
   "source": [
    " "
   ]
  },
  {
   "cell_type": "markdown",
   "id": "f350c9f6",
   "metadata": {},
   "source": [
    "### 4. 논리 연산자\n",
    "조건문과 논리적인 연산을 수행하는 데 사용된다.\n",
    "\n",
    "- !(NOT) , &&(AND), ||(OR)"
   ]
  },
  {
   "cell_type": "markdown",
   "id": "5b1938e2",
   "metadata": {},
   "source": [
    " "
   ]
  },
  {
   "cell_type": "markdown",
   "id": "b5842213",
   "metadata": {},
   "source": [
    "### 5. 비트 연산자\n",
    "비트 단위로 연산을 수행한다.\n",
    "- ~(NOT) , &(AND), |(OR), ^(XOR)\n",
    "- << (왼쪽 시프트), >> (오른쪽 시프트) "
   ]
  },
  {
   "cell_type": "markdown",
   "id": "edc5b402",
   "metadata": {},
   "source": [
    " "
   ]
  },
  {
   "cell_type": "markdown",
   "id": "40376c4e",
   "metadata": {},
   "source": [
    "### 6. 조건 연산자\n",
    "조건식에 따라 참이면 A, 거짓이면 B 선택한다.\n",
    "- (조건식) ? A : B"
   ]
  },
  {
   "cell_type": "markdown",
   "id": "41ee6a2c",
   "metadata": {},
   "source": [
    " "
   ]
  },
  {
   "cell_type": "markdown",
   "id": "b466cf8e",
   "metadata": {},
   "source": [
    "### 7. 단항 연산자\n",
    "피연산자가 하나만 오는 연산자\n",
    "\n",
    "#### 7.1 부호 연산자\n",
    "+, -\n",
    "부호 연산자의 산출 타입은 int 형이다.\n",
    "\n",
    "#### 7.2 증감 연산자\n",
    "++, --\n",
    "피연산자의 값을 1 증가 (++) 시키거나, 1 감소 (--) 시키는 연산자이다.\n",
    "\n",
    "boolean 타입을 제외한 모든 기본 타입의 피연산자에 사용이 가능하다."
   ]
  },
  {
   "cell_type": "markdown",
   "id": "f43c6fd3",
   "metadata": {},
   "source": [
    " "
   ]
  },
  {
   "cell_type": "markdown",
   "id": "07c874ca",
   "metadata": {},
   "source": [
    "###  8. 삼항 연산자\n",
    "A ? B : C\n",
    "\n",
    "피연산자를 3 개 가지는 조건 연산자\n",
    "\n",
    "조건식(피연산자1) ? 피연산자2 : 피연산자3\n",
    "\n",
    "조건식이 참(true) 이면, 삼항 연산자 결과는 피연산자2 가 되고,\n",
    "조건식이 거짓(false) 이면, 삼항 연산자 결과는 피연산자3 이 된다."
   ]
  },
  {
   "cell_type": "markdown",
   "id": "718a5829",
   "metadata": {},
   "source": [
    " "
   ]
  },
  {
   "cell_type": "markdown",
   "id": "2533183c",
   "metadata": {},
   "source": [
    " "
   ]
  },
  {
   "cell_type": "markdown",
   "id": "4a8dd3a4",
   "metadata": {},
   "source": [
    "#### 연산 방향과 우선순위"
   ]
  },
  {
   "cell_type": "markdown",
   "id": "f03a7ad2",
   "metadata": {},
   "source": [
    "산술 연산식에서 덧셈, 뺄셈 보다 곱셈, 나눗셈 연산자가 우선 처리된다."
   ]
  },
  {
   "cell_type": "code",
   "execution_count": null,
   "id": "c8fc53a2",
   "metadata": {},
   "outputs": [],
   "source": [
    "0. ( ) 괄호 속 연산자  \n",
    "\n",
    "1. 증감 ( ++, -- ), 부호 ( +, - ), 비트 ( ~ ), 논리 ( ! )\n",
    "\n",
    "2. 산술 ( *. / % )\n",
    "\n",
    "3. 산술 ( +, - )\n",
    "\n",
    "4.  쉬프트 ( >>, <<, >>> )\n",
    "\n",
    "5.  비교 ( <, >, <=, >=, instanceof)\n",
    "\n",
    "6.  비교 ( ==, != )\n",
    "\n",
    "7.  논리  &\n",
    "\n",
    "8.  논리  ^\n",
    "\n",
    "9.  논리  |\n",
    "\n",
    "10.  논리 &&\n",
    "\n",
    "11.  논리 ||\n",
    "\n",
    "12.  조건 ( ?  : )\n",
    "\n",
    "13.  대입 ( =, +=, -=, *=, /=, %=, &=, ^=, |=, <<=, >>=, >>>= )"
   ]
  }
 ],
 "metadata": {
  "kernelspec": {
   "display_name": "Java",
   "language": "java",
   "name": "java"
  },
  "language_info": {
   "codemirror_mode": "java",
   "file_extension": ".jshell",
   "mimetype": "text/x-java-source",
   "name": "Java",
   "pygments_lexer": "java",
   "version": "11.0.19+9-LTS-224"
  }
 },
 "nbformat": 4,
 "nbformat_minor": 5
}
