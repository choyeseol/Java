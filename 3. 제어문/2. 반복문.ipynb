{
 "cells": [
  {
   "cell_type": "markdown",
   "id": "96359311",
   "metadata": {},
   "source": [
    "# 반복문\n",
    "- 자바의 주요 반복문으로는 for, while, do-while이 있다."
   ]
  },
  {
   "cell_type": "markdown",
   "id": "db9998f1",
   "metadata": {},
   "source": [
    " "
   ]
  },
  {
   "cell_type": "markdown",
   "id": "04124694",
   "metadata": {},
   "source": [
    "## 1. for문"
   ]
  },
  {
   "cell_type": "code",
   "execution_count": null,
   "id": "97e7199f",
   "metadata": {},
   "outputs": [],
   "source": [
    "for (초기식; 조건식; 증감식;) {\n",
    "    실행문;\n",
    "    .\n",
    "    .\n",
    "    .\n",
    "}"
   ]
  },
  {
   "cell_type": "markdown",
   "id": "a87711b9",
   "metadata": {},
   "source": [
    " "
   ]
  },
  {
   "cell_type": "markdown",
   "id": "a167a9bf",
   "metadata": {},
   "source": [
    "ex:"
   ]
  },
  {
   "cell_type": "code",
   "execution_count": 1,
   "id": "de439b08",
   "metadata": {},
   "outputs": [
    {
     "name": "stdout",
     "output_type": "stream",
     "text": [
      "1\n",
      "2\n",
      "3\n",
      "4\n",
      "5\n"
     ]
    }
   ],
   "source": [
    "for (int i = 1; i <= 5; i++) {\n",
    "    System.out.println(i);\n",
    "}"
   ]
  },
  {
   "cell_type": "markdown",
   "id": "bf0c5d53",
   "metadata": {},
   "source": [
    " "
   ]
  },
  {
   "cell_type": "markdown",
   "id": "7332e5c3",
   "metadata": {},
   "source": [
    " "
   ]
  },
  {
   "cell_type": "markdown",
   "id": "e3264889",
   "metadata": {},
   "source": [
    " "
   ]
  },
  {
   "cell_type": "markdown",
   "id": "bf1a3ff2",
   "metadata": {},
   "source": [
    " "
   ]
  },
  {
   "cell_type": "markdown",
   "id": "d81f2974",
   "metadata": {},
   "source": [
    " "
   ]
  },
  {
   "cell_type": "markdown",
   "id": "4e5eab58",
   "metadata": {},
   "source": [
    "## 2. while문\n",
    "- 'while' 반복문은 조건식이 참인 동안 계속해서 반복문의 코드 블록을 실행한다.\n",
    "- 반복문 실행 전에 조건식이 검사되기 때문에 조건식이 처음부터 거짓이면 한 번도 실행되지 않을 수 있다."
   ]
  },
  {
   "cell_type": "code",
   "execution_count": null,
   "id": "7861c2c9",
   "metadata": {},
   "outputs": [],
   "source": [
    "while (조건식) {\n",
    "    실행문;\n",
    "    .\n",
    "    .\n",
    "    .\n",
    "}"
   ]
  },
  {
   "cell_type": "markdown",
   "id": "bc276b25",
   "metadata": {},
   "source": [
    " "
   ]
  },
  {
   "cell_type": "markdown",
   "id": "c6c95b31",
   "metadata": {},
   "source": [
    "ex:"
   ]
  },
  {
   "cell_type": "code",
   "execution_count": 2,
   "id": "9c72f40b",
   "metadata": {
    "scrolled": true
   },
   "outputs": [
    {
     "name": "stdout",
     "output_type": "stream",
     "text": [
      "1\n",
      "2\n",
      "3\n",
      "4\n"
     ]
    }
   ],
   "source": [
    "int i = 1;\n",
    "\n",
    "while (i < 5) {\n",
    "    System.out.println(i);\n",
    "    i++;\n",
    "}"
   ]
  },
  {
   "cell_type": "markdown",
   "id": "cbb6ca49",
   "metadata": {},
   "source": [
    " "
   ]
  },
  {
   "cell_type": "markdown",
   "id": "ac49d2a4",
   "metadata": {},
   "source": [
    " "
   ]
  },
  {
   "cell_type": "markdown",
   "id": "be4db3c0",
   "metadata": {},
   "source": [
    " "
   ]
  },
  {
   "cell_type": "markdown",
   "id": "db93eddc",
   "metadata": {},
   "source": [
    " "
   ]
  },
  {
   "cell_type": "markdown",
   "id": "b5ee9ddb",
   "metadata": {},
   "source": [
    "## 3. do while문\n",
    "- 'do while' 반복문은 먼저 코드 블록을 실행한 후, 조건식을 검사한다.  \n",
    "\n",
    "\n",
    "따라서 코드 블록은 최소한 한 번은 실행된다."
   ]
  },
  {
   "cell_type": "markdown",
   "id": "7d7558e2",
   "metadata": {},
   "source": [
    " "
   ]
  },
  {
   "cell_type": "code",
   "execution_count": null,
   "id": "50533c6d",
   "metadata": {},
   "outputs": [],
   "source": [
    "do {\n",
    "    실행문;\n",
    "    .\n",
    "    .\n",
    "    .\n",
    "} while (조건식);"
   ]
  },
  {
   "cell_type": "markdown",
   "id": "2d11cbcf",
   "metadata": {},
   "source": [
    " "
   ]
  },
  {
   "cell_type": "markdown",
   "id": "57b20e93",
   "metadata": {},
   "source": [
    "ex:"
   ]
  },
  {
   "cell_type": "code",
   "execution_count": 4,
   "id": "77a50495",
   "metadata": {},
   "outputs": [
    {
     "name": "stdout",
     "output_type": "stream",
     "text": [
      "1\n",
      "2\n",
      "3\n",
      "4\n"
     ]
    }
   ],
   "source": [
    "int i = 1;\n",
    "\n",
    "do {\n",
    "    System.out.println(i);\n",
    "    i++;\n",
    "} while (i < 5);"
   ]
  },
  {
   "cell_type": "markdown",
   "id": "569e4fb2",
   "metadata": {},
   "source": [
    " "
   ]
  },
  {
   "cell_type": "markdown",
   "id": "35b87547",
   "metadata": {},
   "source": [
    " "
   ]
  },
  {
   "cell_type": "markdown",
   "id": "c7bf66ca",
   "metadata": {},
   "source": [
    " "
   ]
  },
  {
   "cell_type": "markdown",
   "id": "b1877835",
   "metadata": {},
   "source": [
    " "
   ]
  },
  {
   "cell_type": "markdown",
   "id": "56b05539",
   "metadata": {},
   "source": [
    " "
   ]
  },
  {
   "cell_type": "markdown",
   "id": "61a991ac",
   "metadata": {},
   "source": [
    " "
   ]
  },
  {
   "cell_type": "markdown",
   "id": "952df19c",
   "metadata": {},
   "source": [
    "반복문을 사용하여 특정 작업을 반복하면서 코드를 간결하고 효율적으로 작성할 수 있다.\n",
    "\n",
    "단, 무한루프에 빠지지않게 주의하자."
   ]
  },
  {
   "cell_type": "markdown",
   "id": "83612384",
   "metadata": {},
   "source": [
    " "
   ]
  },
  {
   "cell_type": "markdown",
   "id": "8bcbac2b",
   "metadata": {},
   "source": [
    "무한루프(infinite loop)란 조건식이 항상 참(True)으로 평가되어 반복문이 끝나지 않고 계속해서 반복되는 상태를 말한다. \n",
    "\n",
    "즉, 반복문의 조건식이 항상 참이 되는 경우, 해당 반복문은 무한히 반복되며 프로그램이 끝나지 않게 된다.\n",
    "\n",
    "무한루프는 아래와 같이 프로그램을 개발하는 과정에서 의도적으로 사용되기도 한다."
   ]
  },
  {
   "cell_type": "markdown",
   "id": "66b4a363",
   "metadata": {},
   "source": [
    " "
   ]
  },
  {
   "cell_type": "markdown",
   "id": "16e766b6",
   "metadata": {},
   "source": [
    " "
   ]
  },
  {
   "cell_type": "markdown",
   "id": "c13f8c55",
   "metadata": {},
   "source": [
    "## 4. break문"
   ]
  },
  {
   "cell_type": "markdown",
   "id": "27e8350e",
   "metadata": {},
   "source": [
    "for, while, do-while, switch문의 실행을 중지할 때 사용.  \n",
    "의도적으로 무한루프를 돌릴 때에도 사용한다."
   ]
  },
  {
   "cell_type": "markdown",
   "id": "0bd449b8",
   "metadata": {},
   "source": [
    " "
   ]
  },
  {
   "cell_type": "markdown",
   "id": "4578a196",
   "metadata": {},
   "source": [
    "ex: for문 무한루프"
   ]
  },
  {
   "cell_type": "code",
   "execution_count": 7,
   "id": "ecaee5f6",
   "metadata": {
    "scrolled": true
   },
   "outputs": [
    {
     "name": "stdout",
     "output_type": "stream",
     "text": [
      "1\n",
      "2\n",
      "3\n",
      "4\n",
      "5\n"
     ]
    }
   ],
   "source": [
    "for (int i = 1; i < 10; i++) {\n",
    "    System.out.println(i);\n",
    "    if (i == 5) {\n",
    "        break; // i가 5일 때 반복문 종료\n",
    "    }\n",
    "}"
   ]
  },
  {
   "cell_type": "markdown",
   "id": "17e17b96",
   "metadata": {},
   "source": [
    " "
   ]
  },
  {
   "cell_type": "markdown",
   "id": "8ce2a654",
   "metadata": {},
   "source": [
    "ex: 'while'문 무한루프"
   ]
  },
  {
   "cell_type": "code",
   "execution_count": 5,
   "id": "48c70cb5",
   "metadata": {},
   "outputs": [
    {
     "name": "stdout",
     "output_type": "stream",
     "text": [
      "1\n",
      "2\n",
      "3\n",
      "4\n",
      "5\n",
      "6\n",
      "7\n",
      "8\n",
      "9\n",
      "10\n"
     ]
    }
   ],
   "source": [
    "int i = 1;\n",
    "\n",
    "while (true) {  \n",
    "    \n",
    "    System.out.println(i);\n",
    "    \n",
    "    i++;\n",
    "    \n",
    "    if(i > 10) {\n",
    "        break;\n",
    "    }\n",
    "}"
   ]
  },
  {
   "cell_type": "markdown",
   "id": "1b3f01bf",
   "metadata": {},
   "source": [
    " "
   ]
  },
  {
   "cell_type": "markdown",
   "id": "e1bee045",
   "metadata": {},
   "source": [
    " "
   ]
  },
  {
   "cell_type": "markdown",
   "id": "c2fa50c2",
   "metadata": {},
   "source": [
    " "
   ]
  },
  {
   "cell_type": "markdown",
   "id": "c5745242",
   "metadata": {},
   "source": [
    " "
   ]
  },
  {
   "cell_type": "markdown",
   "id": "683b849c",
   "metadata": {},
   "source": [
    " "
   ]
  },
  {
   "cell_type": "markdown",
   "id": "67390708",
   "metadata": {},
   "source": [
    "## 5. continue문\n",
    "for, while, do-while문에서만 사용한다.\n",
    "\n",
    "for문의 증감 식이나 while, do-while문의 조건식으로 이동\n",
    "\n",
    "if문과 함께 사용된다."
   ]
  },
  {
   "cell_type": "markdown",
   "id": "3c9e7677",
   "metadata": {},
   "source": [
    " "
   ]
  },
  {
   "cell_type": "markdown",
   "id": "dfaa2f3f",
   "metadata": {},
   "source": [
    "ex: for문 continue"
   ]
  },
  {
   "cell_type": "code",
   "execution_count": 6,
   "id": "56731cf8",
   "metadata": {},
   "outputs": [
    {
     "name": "stdout",
     "output_type": "stream",
     "text": [
      "1\n",
      "3\n",
      "5\n",
      "7\n",
      "9\n"
     ]
    }
   ],
   "source": [
    "for(int i = 0; i < 10; i++) {\n",
    "    if(i % 2 == 0) {\n",
    "        continue;\n",
    "    }\n",
    "    \n",
    "    System.out.println(i);\n",
    "    \n",
    "}"
   ]
  }
 ],
 "metadata": {
  "kernelspec": {
   "display_name": "Java",
   "language": "java",
   "name": "java"
  },
  "language_info": {
   "codemirror_mode": "java",
   "file_extension": ".jshell",
   "mimetype": "text/x-java-source",
   "name": "Java",
   "pygments_lexer": "java",
   "version": "11.0.19+9-LTS-224"
  }
 },
 "nbformat": 4,
 "nbformat_minor": 5
}
