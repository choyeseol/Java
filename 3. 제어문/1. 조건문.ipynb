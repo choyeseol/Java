{
 "cells": [
  {
   "cell_type": "markdown",
   "id": "d327921b",
   "metadata": {},
   "source": [
    "# 조건문\n",
    "\n",
    "- 조건문 = 개발자가 작성한 코드를 조건에 따라 코드의 실행 흐름을 다르게 동작하도록 제어하는 것"
   ]
  },
  {
   "cell_type": "markdown",
   "id": "ac71761b",
   "metadata": {},
   "source": [
    "조건문의 종류는 크게 2가지가 있다.\n",
    "- if문\n",
    "- switch문"
   ]
  },
  {
   "cell_type": "markdown",
   "id": "0a01c7c6",
   "metadata": {},
   "source": [
    " "
   ]
  },
  {
   "cell_type": "markdown",
   "id": "98cbbe15",
   "metadata": {},
   "source": [
    " "
   ]
  },
  {
   "cell_type": "markdown",
   "id": "b0066b92",
   "metadata": {},
   "source": [
    " "
   ]
  },
  {
   "cell_type": "markdown",
   "id": "fd7d28d3",
   "metadata": {},
   "source": [
    "## 1. if문"
   ]
  },
  {
   "cell_type": "code",
   "execution_count": null,
   "id": "304dd1a6",
   "metadata": {},
   "outputs": [],
   "source": [
    "if (조건식) {\n",
    "    실행문;\n",
    "    실행문;\n",
    "    .\n",
    "    .\n",
    "    .\n",
    "}"
   ]
  },
  {
   "cell_type": "markdown",
   "id": "5373fc9b",
   "metadata": {},
   "source": [
    " 조건식이 'true'값을 가질 때 중괄호'{ }' 안의 실행문을 작동시킨다. "
   ]
  },
  {
   "cell_type": "markdown",
   "id": "bc6d50bf",
   "metadata": {},
   "source": [
    "반대로 조건식이 'false'이면 중괄호'{ }'의 실행문은 동작하지 않고 if문을 빠져나간다."
   ]
  },
  {
   "cell_type": "markdown",
   "id": "da9af7a1",
   "metadata": {},
   "source": [
    " "
   ]
  },
  {
   "cell_type": "markdown",
   "id": "0da82a16",
   "metadata": {},
   "source": [
    "ex:"
   ]
  },
  {
   "cell_type": "code",
   "execution_count": 15,
   "id": "df5f7040",
   "metadata": {},
   "outputs": [
    {
     "name": "stdout",
     "output_type": "stream",
     "text": [
      "true\n",
      "true\n"
     ]
    }
   ],
   "source": [
    "boolean a = true;\n",
    "        \n",
    "if(a) {\n",
    "    System.out.println(\"true\");\n",
    "}\n",
    "if(!a) {\n",
    "    System.out.println(\"flase\");\n",
    "}\n",
    "else if(true){\n",
    "    System.out.println(\"true\");\n",
    "}\n",
    "else {\n",
    "    System.out.println(\"false\");\n",
    "}"
   ]
  },
  {
   "cell_type": "markdown",
   "id": "626b67fb",
   "metadata": {},
   "source": [
    "위의 코드를 실행 시키면 \n",
    "\n",
    "1. 첫번째 'if'문은 조건식이 '참'이기에 'true'가 출력된다.  \n",
    "2. 두번째 'if'문은 조건식이 '참'에 부정이 붙었기에 '거짓'이 되어 실행되지 않는다.\n",
    "3. 두번째 'if'문이 실행되지 않았기 때문에 다음 조건문인 'else if'문으로 넘어가게된다.\n",
    "4. 세번째 'else if'문의 조건식은 '참'이기에 'true'가 출력된다.\n",
    "5. 세번째 'else if'문은 '참'으로 실행되었기 때문에 바로 다음 조건문인 'else'문은 실행되지 않는다."
   ]
  },
  {
   "cell_type": "markdown",
   "id": "03c429ae",
   "metadata": {},
   "source": [
    " "
   ]
  },
  {
   "cell_type": "markdown",
   "id": "f8f14ac7",
   "metadata": {},
   "source": [
    " "
   ]
  },
  {
   "cell_type": "markdown",
   "id": "890eacc5",
   "metadata": {},
   "source": [
    " "
   ]
  },
  {
   "cell_type": "markdown",
   "id": "b6469191",
   "metadata": {},
   "source": [
    " "
   ]
  },
  {
   "cell_type": "markdown",
   "id": "2210c659",
   "metadata": {},
   "source": [
    " "
   ]
  },
  {
   "cell_type": "markdown",
   "id": "79519cdc",
   "metadata": {},
   "source": [
    "## 2. switch문"
   ]
  },
  {
   "cell_type": "code",
   "execution_count": null,
   "id": "4527479e",
   "metadata": {},
   "outputs": [],
   "source": [
    "switch (조건) {\n",
    "\n",
    "    case 값:\n",
    "        실행문;\n",
    "        break;\n",
    "     \n",
    "    case 값:\n",
    "        실행문;\n",
    "        break;\n",
    "     \n",
    "    case 값:\n",
    "        실행문;\n",
    "        break;\n",
    "    .\n",
    "    .\n",
    "    .\n",
    "    \n",
    "    default:\n",
    "        실행문;\n",
    "        break;\n",
    "}"
   ]
  },
  {
   "cell_type": "markdown",
   "id": "d7f518b2",
   "metadata": {},
   "source": [
    "변수와 값이 일치하면 해당 'case' 실행문을 작동 시킨다.\n",
    "\n",
    "'break;'는 조건에 해당하는 실행문을 작동시키고 'switch'문을 종료하기 위해 사용된다."
   ]
  },
  {
   "cell_type": "markdown",
   "id": "5c028851",
   "metadata": {},
   "source": [
    " "
   ]
  },
  {
   "cell_type": "markdown",
   "id": "2e4c061a",
   "metadata": {},
   "source": [
    "'default' 키워드는 변수의 값과 일치하는 'case'가 없을 때 실행되는 블록이다.  \n",
    "모든 'case' 블록에 해당하는 값이 없을 경우 'default' 블록의 코드가 실행된다. 'default' 블록은 생략 가능하다."
   ]
  },
  {
   "cell_type": "markdown",
   "id": "0057a657",
   "metadata": {},
   "source": [
    " "
   ]
  },
  {
   "cell_type": "markdown",
   "id": "3859d32e",
   "metadata": {},
   "source": [
    "'switch'문을 작성할 때 'case'는 여러 개가 나와도 상관없다. 또한 'break'라는 것은 보조제어문 중 하나이다."
   ]
  },
  {
   "cell_type": "markdown",
   "id": "ad6d8bde",
   "metadata": {},
   "source": [
    " "
   ]
  },
  {
   "cell_type": "markdown",
   "id": "518e675d",
   "metadata": {},
   "source": [
    "ex:"
   ]
  },
  {
   "cell_type": "code",
   "execution_count": 11,
   "id": "31d4db54",
   "metadata": {},
   "outputs": [
    {
     "name": "stdout",
     "output_type": "stream",
     "text": [
      "5\n"
     ]
    }
   ],
   "source": [
    "int n = 5;\n",
    "        \n",
    "switch (n) {\n",
    "    case 1:\n",
    "        System.out.println(\"1\");\n",
    "        break;\n",
    "                \n",
    "    case 2:\n",
    "        System.out.println(\"2\");\n",
    "        break;\n",
    "                \n",
    "    case 3:\n",
    "        System.out.println(\"3\");\n",
    "        break;\n",
    "                \n",
    "    case 4:\n",
    "        System.out.println(\"4\");\n",
    "        break;\n",
    "                \n",
    "    case 5:\n",
    "        System.out.println(\"5\");\n",
    "        break;\n",
    "                \n",
    "    case 6:\n",
    "        System.out.println(\"6\");\n",
    "        break;\n",
    "                \n",
    "    default:\n",
    "        System.out.println(\"out\");\n",
    "}"
   ]
  },
  {
   "cell_type": "markdown",
   "id": "4c5a58a6",
   "metadata": {},
   "source": [
    "case 5에서 n의 값이 5와 일치하기 때문에 '5'가 출력된다."
   ]
  }
 ],
 "metadata": {
  "kernelspec": {
   "display_name": "Java",
   "language": "java",
   "name": "java"
  },
  "language_info": {
   "codemirror_mode": "java",
   "file_extension": ".jshell",
   "mimetype": "text/x-java-source",
   "name": "Java",
   "pygments_lexer": "java",
   "version": "11.0.19+9-LTS-224"
  }
 },
 "nbformat": 4,
 "nbformat_minor": 5
}
