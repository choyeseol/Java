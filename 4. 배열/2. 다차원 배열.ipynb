{
 "cells": [
  {
   "cell_type": "markdown",
   "id": "4f2ac574",
   "metadata": {},
   "source": [
    "# 다차원 배열"
   ]
  },
  {
   "cell_type": "markdown",
   "id": "a20ef523",
   "metadata": {},
   "source": [
    "- 다차원 배열 = 다차원 배열은 배열 요소가 배열인 배열"
   ]
  },
  {
   "cell_type": "markdown",
   "id": "07023562",
   "metadata": {},
   "source": [
    " 다른 말로 2차원 배열, 3차원 배열 등으로 불리며, 배열을 행과 열로 구성한 표 형태의 자료 구조이다.\n",
    " \n",
    " 이를 통해 행렬이나 다른 복잡한 데이터 구조를 표현할 수 있다."
   ]
  },
  {
   "cell_type": "markdown",
   "id": "5eb9d51f",
   "metadata": {},
   "source": [
    " "
   ]
  },
  {
   "cell_type": "markdown",
   "id": "f24a321b",
   "metadata": {},
   "source": [
    " "
   ]
  },
  {
   "cell_type": "markdown",
   "id": "65c92247",
   "metadata": {},
   "source": [
    "## 1. 다차원 배열 선언과 초기화"
   ]
  },
  {
   "cell_type": "markdown",
   "id": "6d83aabb",
   "metadata": {},
   "source": [
    "#### 배열 선언"
   ]
  },
  {
   "cell_type": "code",
   "execution_count": null,
   "id": "05a70098",
   "metadata": {},
   "outputs": [],
   "source": [
    "타입[][] 배열명 = new 타입[길이][길이]\n",
    "\n",
    "타입 배열명[][] = new 타입[길이][길이]\n",
    "\n",
    "타입[] 배열명[] = new 타입[길이][길이]"
   ]
  },
  {
   "cell_type": "markdown",
   "id": "b7376aff",
   "metadata": {},
   "source": [
    "위의 예시는 2차원 배열 선언이다. 만약 3차원 배열을 선언하고 싶다면 대괄호를 하나 더 추가해주면 된다."
   ]
  },
  {
   "cell_type": "code",
   "execution_count": null,
   "id": "2945ac6d",
   "metadata": {},
   "outputs": [],
   "source": [
    "타입[][][] 배열명 = new 타입[길이][길이][길이]\n",
    "\n",
    "타입 배열명[][][] = new 타입[길이][길이][길이]\n",
    "\n",
    "타입[][] 배열명[][] = new 타입[길이][길이][길이]"
   ]
  },
  {
   "cell_type": "markdown",
   "id": "480e1d80",
   "metadata": {},
   "source": [
    " ####  배열 초기화"
   ]
  },
  {
   "cell_type": "code",
   "execution_count": null,
   "id": "843fa474",
   "metadata": {},
   "outputs": [],
   "source": [
    "타입[][] 배열명 = { {배열요소1}, {배열요소2}, {배열요소3} };"
   ]
  },
  {
   "cell_type": "markdown",
   "id": "d1a5c31f",
   "metadata": {},
   "source": [
    " "
   ]
  },
  {
   "cell_type": "markdown",
   "id": "b8ae66c6",
   "metadata": {},
   "source": [
    " "
   ]
  },
  {
   "cell_type": "markdown",
   "id": "7377ea39",
   "metadata": {},
   "source": [
    " "
   ]
  },
  {
   "cell_type": "markdown",
   "id": "ce97b2d1",
   "metadata": {},
   "source": [
    " "
   ]
  },
  {
   "cell_type": "markdown",
   "id": "5c4e300b",
   "metadata": {},
   "source": [
    "#### 선언과 함께 초기화"
   ]
  },
  {
   "cell_type": "code",
   "execution_count": null,
   "id": "06f20149",
   "metadata": {},
   "outputs": [],
   "source": [
    "타입 배열명[길이][길이] = {\n",
    "\n",
    "    {배열요소[0][0], 배열요소[0][1], ...},\n",
    "\n",
    "    {배열요소[1][0], 배열요소[1][1], ...},\n",
    "\n",
    "    {배열요소[2][0], 배열요소[2][1], ...},\n",
    "\n",
    "    ...\n",
    "\n",
    "};"
   ]
  },
  {
   "cell_type": "markdown",
   "id": "c25aa3c8",
   "metadata": {},
   "source": [
    " "
   ]
  },
  {
   "cell_type": "markdown",
   "id": "413afca7",
   "metadata": {},
   "source": [
    " "
   ]
  },
  {
   "cell_type": "markdown",
   "id": "367f0529",
   "metadata": {},
   "source": [
    " "
   ]
  },
  {
   "cell_type": "markdown",
   "id": "0059679e",
   "metadata": {},
   "source": [
    " "
   ]
  },
  {
   "cell_type": "markdown",
   "id": "a357ac67",
   "metadata": {},
   "source": [
    " "
   ]
  },
  {
   "cell_type": "markdown",
   "id": "def5cbc3",
   "metadata": {},
   "source": [
    " "
   ]
  },
  {
   "cell_type": "markdown",
   "id": "988ad707",
   "metadata": {},
   "source": [
    "#### 다차원 배열의 길이:\n",
    "다차원 배열의 길이를 얻기 위해서는 각 차원별로 .length를 사용해야 한다. \n",
    "\n",
    "예를 들어, 배열명.length는 2차원 배열의 행의 수를,  \n",
    "배열명[0].length는 첫 번째 행의 열의 수를 나타낸다."
   ]
  }
 ],
 "metadata": {
  "kernelspec": {
   "display_name": "Java",
   "language": "java",
   "name": "java"
  },
  "language_info": {
   "codemirror_mode": "java",
   "file_extension": ".jshell",
   "mimetype": "text/x-java-source",
   "name": "Java",
   "pygments_lexer": "java",
   "version": "11.0.19+9-LTS-224"
  }
 },
 "nbformat": 4,
 "nbformat_minor": 5
}
