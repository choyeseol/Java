{
 "cells": [
  {
   "cell_type": "markdown",
   "id": "7971448f",
   "metadata": {},
   "source": [
    "# 배열 (Array)\n",
    "\n",
    "- 배열 = 동일한 자료형(Data Type)의 데이터를 연속된 공간에 저장하기 위한 자료구조"
   ]
  },
  {
   "cell_type": "markdown",
   "id": "6e0f24bf",
   "metadata": {},
   "source": [
    " "
   ]
  },
  {
   "cell_type": "markdown",
   "id": "f0ee8a76",
   "metadata": {},
   "source": [
    "#### 초기화:  \n",
    "\n",
    "배열은 생성과 동시에 기본값으로 초기화된다.  \n",
    "\n",
    "숫자형 배열은 0, \n",
    "\n",
    "boolean 배열은 false, \n",
    "\n",
    "객체 배열은 null로 초기화된다. \n",
    "\n",
    "  \n",
    "  \n",
    "원하는 값으로 배열을 초기화하려면 반복문이나 배열 초기화식을 사용해야한다."
   ]
  },
  {
   "cell_type": "markdown",
   "id": "fe283248",
   "metadata": {},
   "source": [
    " "
   ]
  },
  {
   "cell_type": "markdown",
   "id": "ab07f18a",
   "metadata": {},
   "source": [
    "#### 배열의 길이: \n",
    "\n",
    "배열의 길이는 (배열명.length)를 통해 얻을 수 있다. \n",
    "\n",
    "이는 배열의 크기를 나타내며, 고정된 값으로 변경할 수 없다."
   ]
  },
  {
   "cell_type": "markdown",
   "id": "1958e7ba",
   "metadata": {},
   "source": [
    " "
   ]
  },
  {
   "cell_type": "markdown",
   "id": "e5cf403a",
   "metadata": {},
   "source": [
    "### 배열의 장점\n",
    "1. 연관된 데이터를 저장하기 위한 변수의 선언을 줄여준다.\n",
    "2. 반복문 등을 이용하여 계산과 같은 과정을 쉽게 처리할 수 있다.\n",
    "3. 많은 알고리즘과 데이터 구조에서 배열은 기본적인 구성 요소로 활용된다.\n",
    "4. 다차원 배열 지원한다.\n",
    "5. 인덱스를 사용하여 요소를 순차적으로 접근할 수 있다.\n",
    "6. 배열은 생성할 때 크기가 결정되며, 크기를 동적으로 변경하는 것은 어렵다. 이는 고정 크기의 자료 구조가 필요한 경우에 유용하다."
   ]
  },
  {
   "cell_type": "markdown",
   "id": "282f5ab5",
   "metadata": {},
   "source": [
    " "
   ]
  },
  {
   "cell_type": "markdown",
   "id": "e939d97d",
   "metadata": {},
   "source": [
    "## 1. 배열 선언 및 사용"
   ]
  },
  {
   "cell_type": "markdown",
   "id": "adb137a5",
   "metadata": {},
   "source": [
    "배열을 정의하는방법은 크게 2가지가 있다. \n",
    "\n",
    "우선 첫번째 방법을 알아보자."
   ]
  },
  {
   "cell_type": "markdown",
   "id": "2aac0f0a",
   "metadata": {},
   "source": [
    " "
   ]
  },
  {
   "cell_type": "markdown",
   "id": "f2a5c56e",
   "metadata": {},
   "source": [
    "#### 1: 첫 번째 방법은 데이터들의 값을 알고 있을 때 사용하면 편리하다. "
   ]
  },
  {
   "cell_type": "code",
   "execution_count": null,
   "id": "82c675a3",
   "metadata": {},
   "outputs": [],
   "source": [
    "int[] a = {데이터1, 데이터2, 데이터3, 데이터4}; // 배열 선언 밑 생성"
   ]
  },
  {
   "cell_type": "code",
   "execution_count": 4,
   "id": "561577e0",
   "metadata": {},
   "outputs": [
    {
     "name": "stdout",
     "output_type": "stream",
     "text": [
      "1\n",
      "2\n",
      "3\n",
      "4\n",
      "5\n"
     ]
    }
   ],
   "source": [
    "int[] a = {1, 2, 3, 4, 5};\n",
    "\n",
    "System.out.println(a[0]);\n",
    "System.out.println(a[1]);\n",
    "System.out.println(a[2]);\n",
    "System.out.println(a[3]);\n",
    "System.out.println(a[4]);"
   ]
  },
  {
   "cell_type": "markdown",
   "id": "3c2d6077",
   "metadata": {},
   "source": [
    " "
   ]
  },
  {
   "cell_type": "markdown",
   "id": "1523f3cb",
   "metadata": {},
   "source": [
    " "
   ]
  },
  {
   "cell_type": "markdown",
   "id": "25896987",
   "metadata": {},
   "source": [
    "#### 2: 두번째 방법은 배열의 값은 모르지만 향후 값을 저장하기 위한 배열을 생성하고 싶을 경우 주로 사용한다. "
   ]
  },
  {
   "cell_type": "code",
   "execution_count": null,
   "id": "62d6bcf7",
   "metadata": {},
   "outputs": [],
   "source": [
    "int[] a; // 배열 선언\n",
    "a = new int[5]; // 배열 생성"
   ]
  },
  {
   "cell_type": "code",
   "execution_count": 6,
   "id": "cc3823f0",
   "metadata": {},
   "outputs": [
    {
     "name": "stdout",
     "output_type": "stream",
     "text": [
      "10\n",
      "20\n",
      "30\n"
     ]
    }
   ],
   "source": [
    "int[] a = new int[3]; // 크기가 3인 배열 생성\n",
    "\n",
    "a[0] = 10; // 0번 index에 값 할당\n",
    "a[1] = 20; // 1번 index에 값 할당\n",
    "a[2] = 30; // 2번 index에 값 할당\n",
    "\n",
    "for (int i = 0; i < a.length; i++) {\n",
    "    System.out.println(a[i]);\n",
    "}"
   ]
  },
  {
   "cell_type": "markdown",
   "id": "51ff1b36",
   "metadata": {},
   "source": [
    " "
   ]
  },
  {
   "cell_type": "markdown",
   "id": "5721c3bd",
   "metadata": {},
   "source": [
    " "
   ]
  },
  {
   "cell_type": "markdown",
   "id": "fe79f87d",
   "metadata": {},
   "source": [
    " "
   ]
  },
  {
   "cell_type": "markdown",
   "id": "c040812b",
   "metadata": {},
   "source": [
    " "
   ]
  },
  {
   "cell_type": "markdown",
   "id": "f8b9404d",
   "metadata": {},
   "source": [
    "## 2. for-each문"
   ]
  },
  {
   "cell_type": "code",
   "execution_count": null,
   "id": "5dc7e9a5",
   "metadata": {},
   "outputs": [],
   "source": [
    "for (자료형 변수 : 배열) {   // 배열의 값이 있다면 자료형 변수로 값을 보내주고\n",
    "    반복 실행할 문장;        // 문장 실행\n",
    "}                            // 값이 없으면 종료한다.  "
   ]
  },
  {
   "cell_type": "markdown",
   "id": "51e04099",
   "metadata": {},
   "source": [
    " "
   ]
  },
  {
   "cell_type": "markdown",
   "id": "245e5d7a",
   "metadata": {},
   "source": [
    "ex:"
   ]
  },
  {
   "cell_type": "code",
   "execution_count": 7,
   "id": "7fed09b5",
   "metadata": {},
   "outputs": [
    {
     "name": "stdout",
     "output_type": "stream",
     "text": [
      "150\n"
     ]
    }
   ],
   "source": [
    "int[] a = { 10, 20, 30, 40, 50 };\n",
    "int sum = 0;\n",
    "\n",
    "for (int i : a) {\n",
    "    sum += i;\n",
    "}\n",
    "\n",
    "System.out.println(sum);"
   ]
  },
  {
   "cell_type": "markdown",
   "id": "39c1c3a6",
   "metadata": {},
   "source": [
    "종료 조건과 초기값, 증감식을 숨기고 배열과 변수를 이용하여 문장을 반복시키는 방법이다."
   ]
  }
 ],
 "metadata": {
  "kernelspec": {
   "display_name": "Java",
   "language": "java",
   "name": "java"
  },
  "language_info": {
   "codemirror_mode": "java",
   "file_extension": ".jshell",
   "mimetype": "text/x-java-source",
   "name": "Java",
   "pygments_lexer": "java",
   "version": "11.0.19+9-LTS-224"
  }
 },
 "nbformat": 4,
 "nbformat_minor": 5
}
