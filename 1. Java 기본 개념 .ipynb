{
 "cells": [
  {
   "cell_type": "markdown",
   "id": "389db218",
   "metadata": {},
   "source": [
    "# 1. 자바 (JAVA)\n",
    "\n",
    "- 썬에서 개발한 객체지향 언어"
   ]
  },
  {
   "cell_type": "markdown",
   "id": "e514a354",
   "metadata": {},
   "source": [
    "## 1.1 자바의 장점\n",
    "\n",
    "- 간결하고 읽기 쉽고, 강력한 객체지향 언어 (C++과 비슷한 문법)\n",
    "- 개방형 구조로 여러 기술과 융합 가능  \n",
    "- 자바는 가상 머신인 JVM(Java Virtual Machine) 위에서 실행되기 때문에 운영체제에 독립적이며, 어떤 플랫폼에서도 동일한 코드를 실행할 수 있음.\n",
    "- 많은 오픈소스 프레임 워크로 생산성 증가, 객체 지향 프로그래밍을 지원하여 코드의 재사용성과 유지보수성 향상 가능\n",
    "- 다양한 표준 라이브러리를 제공하여 네트워킹, 데이터베이스, 입출력 등의 작업을 쉽게 수행할 수 있음.\n",
    "- 쓰레드(Thread)를 사용하여 멀티스레드 프로그래밍을 지원합니다. 이를 통해 동시에 여러 작업을 처리할 수 있음."
   ]
  },
  {
   "cell_type": "markdown",
   "id": "27401615",
   "metadata": {},
   "source": [
    "## 2.2 자바의 단점  \n",
    "- 다른 언어에 비해 실행 속도가 상대적으로 느릴 수 있음, 따라서 처리 속도가 중요한 애플리캐이션에 적합하지 않음.  \n",
    "- GUI 요소가 많은 MS 윈도우 응용 프로그램 개발에 적합하지 않음.  \n",
    "- 하드웨어에 연결하여 제어할 수 없기 때문에, 직접 하드웨어를 정밀하게 조정해야하는 프로그램 개발에 적합하지 않음.\n",
    "-  자바 가상 머신(JVM)이 필요하기 때문에 일반적으로 큰 파일 크기를 가지게 됨.\n",
    "- 가비지 컬렉션으로 인해 시스템의 메모리 사용량이 증가할 수 있음."
   ]
  },
  {
   "cell_type": "markdown",
   "id": "ca5cc86e",
   "metadata": {},
   "source": [
    "등등 자바의 장점과 단점은 다양하다."
   ]
  },
  {
   "cell_type": "markdown",
   "id": "0d2dabe6",
   "metadata": {},
   "source": [
    " "
   ]
  },
  {
   "cell_type": "markdown",
   "id": "3c82a14c",
   "metadata": {},
   "source": [
    " "
   ]
  },
  {
   "cell_type": "markdown",
   "id": "d1a92811",
   "metadata": {},
   "source": [
    " "
   ]
  },
  {
   "cell_type": "markdown",
   "id": "802cffdd",
   "metadata": {},
   "source": [
    "## 2. 자바 프로그램 개발 절차"
   ]
  },
  {
   "cell_type": "code",
   "execution_count": null,
   "id": "80ce9d51",
   "metadata": {},
   "outputs": [],
   "source": [
    "1. 자바 소스 코드 작성\n",
    "2. 자바 컴파일러\n",
    "3. 자바 바이트코드 ( 가상머신에서 실행하는 중간 코드 )\n",
    "3. 자바 가상 머신\n",
    "4. 운영체제, 하드웨어\n",
    "5. 실행"
   ]
  },
  {
   "cell_type": "markdown",
   "id": "dc38d58b",
   "metadata": {},
   "source": [
    "자바 클래스를 실행하려면 main() 메서드가 필요하다."
   ]
  }
 ],
 "metadata": {
  "kernelspec": {
   "display_name": "Java",
   "language": "java",
   "name": "java"
  },
  "language_info": {
   "codemirror_mode": "java",
   "file_extension": ".jshell",
   "mimetype": "text/x-java-source",
   "name": "Java",
   "pygments_lexer": "java",
   "version": "11.0.19+9-LTS-224"
  }
 },
 "nbformat": 4,
 "nbformat_minor": 5
}
